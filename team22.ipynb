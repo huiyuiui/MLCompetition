{
 "cells": [
  {
   "cell_type": "code",
   "execution_count": 1,
   "metadata": {},
   "outputs": [],
   "source": [
    "import tensorflow as tf\n",
    "import pandas as pd\n",
    "import numpy as np\n",
    "import matplotlib.pyplot as plt\n",
    "import os\n",
    "\n",
    "from sklearn.model_selection import train_test_split\n",
    "from sklearn.metrics import auc, confusion_matrix,  f1_score, precision_score, recall_score, roc_curve\n",
    "from tensorflow import keras"
   ]
  },
  {
   "cell_type": "code",
   "execution_count": 2,
   "metadata": {},
   "outputs": [
    {
     "name": "stdout",
     "output_type": "stream",
     "text": [
      "1 Physical GPUs, 1 Logical GPUs\n"
     ]
    }
   ],
   "source": [
    "gpus = tf.config.experimental.list_physical_devices('GPU')\n",
    "if gpus:\n",
    "    try:\n",
    "        # Currently, memory growth needs to be the same across GPUs\n",
    "        for gpu in gpus:\n",
    "            tf.config.experimental.set_memory_growth(gpu, True)\n",
    "        tf.config.experimental.set_visible_devices(gpus[0], 'GPU')\n",
    "        logical_gpus = tf.config.experimental.list_logical_devices('GPU')\n",
    "        print(len(gpus), \"Physical GPUs,\", len(logical_gpus), \"Logical GPUs\")\n",
    "    except RuntimeError as e:\n",
    "        # Memory growth must be set before GPUs have been initialized\n",
    "        print(e)"
   ]
  },
  {
   "cell_type": "markdown",
   "metadata": {},
   "source": [
    "### Dataset"
   ]
  },
  {
   "cell_type": "code",
   "execution_count": 3,
   "metadata": {},
   "outputs": [
    {
     "name": "stdout",
     "output_type": "stream",
     "text": [
      "Dataset shape: (500000, 36)\n"
     ]
    },
    {
     "data": {
      "text/html": [
       "<div>\n",
       "<style scoped>\n",
       "    .dataframe tbody tr th:only-of-type {\n",
       "        vertical-align: middle;\n",
       "    }\n",
       "\n",
       "    .dataframe tbody tr th {\n",
       "        vertical-align: top;\n",
       "    }\n",
       "\n",
       "    .dataframe thead th {\n",
       "        text-align: right;\n",
       "    }\n",
       "</style>\n",
       "<table border=\"1\" class=\"dataframe\">\n",
       "  <thead>\n",
       "    <tr style=\"text-align: right;\">\n",
       "      <th></th>\n",
       "      <th>label</th>\n",
       "      <th>1</th>\n",
       "      <th>2</th>\n",
       "      <th>3</th>\n",
       "      <th>4</th>\n",
       "      <th>5</th>\n",
       "      <th>6</th>\n",
       "      <th>7</th>\n",
       "      <th>8</th>\n",
       "      <th>9</th>\n",
       "      <th>...</th>\n",
       "      <th>26</th>\n",
       "      <th>27</th>\n",
       "      <th>28</th>\n",
       "      <th>29</th>\n",
       "      <th>30</th>\n",
       "      <th>31</th>\n",
       "      <th>32</th>\n",
       "      <th>33</th>\n",
       "      <th>34</th>\n",
       "      <th>35</th>\n",
       "    </tr>\n",
       "  </thead>\n",
       "  <tbody>\n",
       "    <tr>\n",
       "      <th>0</th>\n",
       "      <td>0</td>\n",
       "      <td>1.721656</td>\n",
       "      <td>-2.026168</td>\n",
       "      <td>-1.678496</td>\n",
       "      <td>-0.517512</td>\n",
       "      <td>-0.567964</td>\n",
       "      <td>1.054221</td>\n",
       "      <td>0.069819</td>\n",
       "      <td>1.048858</td>\n",
       "      <td>0.832034</td>\n",
       "      <td>...</td>\n",
       "      <td>1.634686</td>\n",
       "      <td>0.849622</td>\n",
       "      <td>0.315492</td>\n",
       "      <td>-0.338898</td>\n",
       "      <td>-0.412601</td>\n",
       "      <td>1.027683</td>\n",
       "      <td>-1.542995</td>\n",
       "      <td>1.960504</td>\n",
       "      <td>-0.567663</td>\n",
       "      <td>-1.140047</td>\n",
       "    </tr>\n",
       "    <tr>\n",
       "      <th>1</th>\n",
       "      <td>0</td>\n",
       "      <td>1.596194</td>\n",
       "      <td>-1.577304</td>\n",
       "      <td>-0.706441</td>\n",
       "      <td>-1.553644</td>\n",
       "      <td>-1.173163</td>\n",
       "      <td>1.054221</td>\n",
       "      <td>0.125655</td>\n",
       "      <td>1.365986</td>\n",
       "      <td>0.756011</td>\n",
       "      <td>...</td>\n",
       "      <td>0.253726</td>\n",
       "      <td>0.901653</td>\n",
       "      <td>-0.305200</td>\n",
       "      <td>-0.221213</td>\n",
       "      <td>-1.351918</td>\n",
       "      <td>0.885052</td>\n",
       "      <td>-1.312088</td>\n",
       "      <td>-0.032521</td>\n",
       "      <td>-0.925837</td>\n",
       "      <td>-0.683991</td>\n",
       "    </tr>\n",
       "    <tr>\n",
       "      <th>2</th>\n",
       "      <td>0</td>\n",
       "      <td>2.096867</td>\n",
       "      <td>-0.477000</td>\n",
       "      <td>0.598374</td>\n",
       "      <td>0.239101</td>\n",
       "      <td>-0.209981</td>\n",
       "      <td>-0.850488</td>\n",
       "      <td>0.889856</td>\n",
       "      <td>0.811048</td>\n",
       "      <td>0.357467</td>\n",
       "      <td>...</td>\n",
       "      <td>1.544468</td>\n",
       "      <td>0.391239</td>\n",
       "      <td>1.085081</td>\n",
       "      <td>0.862539</td>\n",
       "      <td>-1.456647</td>\n",
       "      <td>-1.323906</td>\n",
       "      <td>-1.494468</td>\n",
       "      <td>0.947688</td>\n",
       "      <td>-0.288821</td>\n",
       "      <td>-0.364749</td>\n",
       "    </tr>\n",
       "    <tr>\n",
       "      <th>3</th>\n",
       "      <td>0</td>\n",
       "      <td>1.019743</td>\n",
       "      <td>-1.411434</td>\n",
       "      <td>-0.872602</td>\n",
       "      <td>0.153695</td>\n",
       "      <td>0.631471</td>\n",
       "      <td>-2.755198</td>\n",
       "      <td>-0.760561</td>\n",
       "      <td>0.143261</td>\n",
       "      <td>-1.253862</td>\n",
       "      <td>...</td>\n",
       "      <td>1.258645</td>\n",
       "      <td>-0.587911</td>\n",
       "      <td>0.110567</td>\n",
       "      <td>0.567624</td>\n",
       "      <td>-1.512797</td>\n",
       "      <td>-0.707736</td>\n",
       "      <td>-2.172718</td>\n",
       "      <td>0.045091</td>\n",
       "      <td>-0.345398</td>\n",
       "      <td>0.045562</td>\n",
       "    </tr>\n",
       "    <tr>\n",
       "      <th>4</th>\n",
       "      <td>0</td>\n",
       "      <td>0.877437</td>\n",
       "      <td>-0.507518</td>\n",
       "      <td>-0.818602</td>\n",
       "      <td>0.280093</td>\n",
       "      <td>-0.375073</td>\n",
       "      <td>0.005984</td>\n",
       "      <td>0.342253</td>\n",
       "      <td>0.964911</td>\n",
       "      <td>0.599365</td>\n",
       "      <td>...</td>\n",
       "      <td>0.955726</td>\n",
       "      <td>2.191106</td>\n",
       "      <td>0.429383</td>\n",
       "      <td>-1.432677</td>\n",
       "      <td>-0.407917</td>\n",
       "      <td>0.362277</td>\n",
       "      <td>-2.856638</td>\n",
       "      <td>1.672222</td>\n",
       "      <td>-0.617077</td>\n",
       "      <td>1.829777</td>\n",
       "    </tr>\n",
       "  </tbody>\n",
       "</table>\n",
       "<p>5 rows × 36 columns</p>\n",
       "</div>"
      ],
      "text/plain": [
       "   label         1         2         3         4         5         6  \\\n",
       "0      0  1.721656 -2.026168 -1.678496 -0.517512 -0.567964  1.054221   \n",
       "1      0  1.596194 -1.577304 -0.706441 -1.553644 -1.173163  1.054221   \n",
       "2      0  2.096867 -0.477000  0.598374  0.239101 -0.209981 -0.850488   \n",
       "3      0  1.019743 -1.411434 -0.872602  0.153695  0.631471 -2.755198   \n",
       "4      0  0.877437 -0.507518 -0.818602  0.280093 -0.375073  0.005984   \n",
       "\n",
       "          7         8         9  ...        26        27        28        29  \\\n",
       "0  0.069819  1.048858  0.832034  ...  1.634686  0.849622  0.315492 -0.338898   \n",
       "1  0.125655  1.365986  0.756011  ...  0.253726  0.901653 -0.305200 -0.221213   \n",
       "2  0.889856  0.811048  0.357467  ...  1.544468  0.391239  1.085081  0.862539   \n",
       "3 -0.760561  0.143261 -1.253862  ...  1.258645 -0.587911  0.110567  0.567624   \n",
       "4  0.342253  0.964911  0.599365  ...  0.955726  2.191106  0.429383 -1.432677   \n",
       "\n",
       "         30        31        32        33        34        35  \n",
       "0 -0.412601  1.027683 -1.542995  1.960504 -0.567663 -1.140047  \n",
       "1 -1.351918  0.885052 -1.312088 -0.032521 -0.925837 -0.683991  \n",
       "2 -1.456647 -1.323906 -1.494468  0.947688 -0.288821 -0.364749  \n",
       "3 -1.512797 -0.707736 -2.172718  0.045091 -0.345398  0.045562  \n",
       "4 -0.407917  0.362277 -2.856638  1.672222 -0.617077  1.829777  \n",
       "\n",
       "[5 rows x 36 columns]"
      ]
     },
     "execution_count": 3,
     "metadata": {},
     "output_type": "execute_result"
    }
   ],
   "source": [
    "df = pd.read_csv(\"./dataset/train.csv\")\n",
    "print(\"Dataset shape:\", df.shape)\n",
    "df.head(5)"
   ]
  },
  {
   "cell_type": "code",
   "execution_count": 4,
   "metadata": {},
   "outputs": [
    {
     "name": "stdout",
     "output_type": "stream",
     "text": [
      "X shape: (500000, 35), y shape: (500000,)\n",
      "X_train shape: (450000, 35), y_train shape: (450000,)\n",
      "X_valid shape: (50000, 35), y_valid shape: (50000,)\n"
     ]
    }
   ],
   "source": [
    "X, y = df.iloc[:, 1:].to_numpy(), df[\"label\"].to_numpy()\n",
    "print(f\"X shape: {X.shape}, y shape: {y.shape}\")\n",
    "\n",
    "X_train, X_valid, y_train, y_valid = train_test_split(X, y, test_size=0.1, random_state=42, shuffle=True) # random state can be modify\n",
    "print(f\"X_train shape: {X_train.shape}, y_train shape: {y_train.shape}\")\n",
    "print(f\"X_valid shape: {X_valid.shape}, y_valid shape: {y_valid.shape}\")"
   ]
  },
  {
   "cell_type": "code",
   "execution_count": 7,
   "metadata": {},
   "outputs": [
    {
     "data": {
      "image/png": "[encoded data removed]",
      "text/plain": [
       "<Figure size 600x600 with 1 Axes>"
      ]
     },
     "metadata": {},
     "output_type": "display_data"
    }
   ],
   "source": [
    "label_counts = np.bincount(y_train)\n",
    "\n",
    "plt.figure(figsize=(6, 6))\n",
    "plt.pie(label_counts, labels=['Label 0', 'Label 1'], autopct='%1.1f%%', startangle=90, colors=['#66b3ff','#99ff99'])\n",
    "plt.title('Label Distribution')\n",
    "plt.show()"
   ]
  },
  {
   "cell_type": "markdown",
   "metadata": {},
   "source": [
    "### Ensemble Model"
   ]
  },
  {
   "cell_type": "code",
   "execution_count": 8,
   "metadata": {},
   "outputs": [],
   "source": [
    "from xgboost import XGBClassifier\n",
    "from lightgbm import LGBMClassifier\n",
    "from catboost import CatBoostClassifier\n",
    "from sklearn.ensemble import GradientBoostingClassifier\n",
    "from sklearn.ensemble import HistGradientBoostingClassifier\n",
    "from sklearn.ensemble import VotingClassifier\n",
    "from sklearn.linear_model import SGDClassifier\n",
    "from sklearn.ensemble import RandomForestClassifier"
   ]
  },
  {
   "cell_type": "code",
   "execution_count": 6,
   "metadata": {},
   "outputs": [
    {
     "name": "stdout",
     "output_type": "stream",
     "text": [
      "RandomForestClassifier score: 0.93912\n"
     ]
    }
   ],
   "source": [
    "from sklearn.ensemble import RandomForestClassifier\n",
    "\n",
    "rfc = RandomForestClassifier()\n",
    "\n",
    "rfc.fit(X_train, y_train)\n",
    "\n",
    "print(f\"RandomForestClassifier score: {rfc.score(X_valid, y_valid)}\")"
   ]
  },
  {
   "cell_type": "markdown",
   "metadata": {},
   "source": [
    "### Evaluation"
   ]
  },
  {
   "cell_type": "code",
   "execution_count": 7,
   "metadata": {},
   "outputs": [
    {
     "name": "stdout",
     "output_type": "stream",
     "text": [
      "F1-score on train: 0.9999691872211096\n",
      "F1-score on valid: 0.7917796465014876\n"
     ]
    }
   ],
   "source": [
    "y_pred_train = rfc.predict(X_train)\n",
    "y_pred_val =  rfc.predict(X_valid)\n",
    "\n",
    "print(f\"F1-score on train: {f1_score(y_train, y_pred_train, average='macro')}\") \n",
    "print(f\"F1-score on valid: {f1_score(y_valid, y_pred_val, average='macro')}\") "
   ]
  },
  {
   "cell_type": "markdown",
   "metadata": {},
   "source": [
    "### Submmit"
   ]
  },
  {
   "cell_type": "code",
   "execution_count": 9,
   "metadata": {},
   "outputs": [
    {
     "name": "stdout",
     "output_type": "stream",
     "text": [
      "X_test shape: (200000, 35)\n"
     ]
    }
   ],
   "source": [
    "df_test = pd.read_csv('./dataset/test.csv')\n",
    "\n",
    "Id = df_test['id'].to_numpy()\n",
    "X_test = df_test.iloc[:, 1:].to_numpy()\n",
    "print(f\"X_test shape: {X_test.shape}\")"
   ]
  },
  {
   "cell_type": "code",
   "execution_count": null,
   "metadata": {},
   "outputs": [],
   "source": [
    "y_pred_test = rfc.predict(X_test)"
   ]
  },
  {
   "cell_type": "code",
   "execution_count": 11,
   "metadata": {},
   "outputs": [
    {
     "name": "stdout",
     "output_type": "stream",
     "text": [
      "            id  label\n",
      "0            0      0\n",
      "1            1      0\n",
      "2            2      0\n",
      "3            3      0\n",
      "4            4      0\n",
      "...        ...    ...\n",
      "199995  199995      0\n",
      "199996  199996      0\n",
      "199997  199997      1\n",
      "199998  199998      1\n",
      "199999  199999      0\n",
      "\n",
      "[200000 rows x 2 columns]\n"
     ]
    }
   ],
   "source": [
    "output_data = {'id': Id, 'label': y_pred_test}\n",
    "output_dataframe = pd.DataFrame(output_data)\n",
    "print(output_dataframe)\n",
    "\n",
    "output_dataframe.to_csv(\"./dataset/y_pred.csv\", index=None)"
   ]
  },
  {
   "cell_type": "code",
   "execution_count": null,
   "metadata": {},
   "outputs": [],
   "source": []
  }
 ],
 "metadata": {
  "kernelspec": {
   "display_name": "tensorflow_gpu",
   "language": "python",
   "name": "python3"
  },
  "language_info": {
   "codemirror_mode": {
    "name": "ipython",
    "version": 3
   },
   "file_extension": ".py",
   "mimetype": "text/x-python",
   "name": "python",
   "nbconvert_exporter": "python",
   "pygments_lexer": "ipython3",
   "version": "3.9.18"
  }
 },
 "nbformat": 4,
 "nbformat_minor": 2
}
